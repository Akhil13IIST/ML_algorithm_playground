{
 "cells": [
  {
   "cell_type": "code",
   "execution_count": null,
   "id": "e21725d6-b001-4d80-b205-3450edf6af19",
   "metadata": {},
   "outputs": [],
   "source": []
  }
 ],
 "metadata": {
  "kernelspec": {
   "display_name": "",
   "name": ""
  },
  "language_info": {
   "name": ""
  }
 },
 "nbformat": 4,
 "nbformat_minor": 5
}
